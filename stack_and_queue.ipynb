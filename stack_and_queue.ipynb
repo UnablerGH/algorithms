{
 "cells": [
  {
   "attachments": {},
   "cell_type": "markdown",
   "metadata": {},
   "source": [
    "# **Stack and queue**"
   ]
  },
  {
   "attachments": {},
   "cell_type": "markdown",
   "metadata": {},
   "source": [
    "## Stack implementation using lists"
   ]
  },
  {
   "cell_type": "code",
   "execution_count": 44,
   "metadata": {},
   "outputs": [],
   "source": [
    "class Stack_lists:\n",
    "    def __init__(self):\n",
    "        self.stack_list = []\n",
    "        self.stack_size = 0\n",
    "    def is_empty(self): # complexity O(1)\n",
    "        return self.stack_size == 0\n",
    "    def peek(self): # complexity O(1)\n",
    "        if self.is_empty():\n",
    "            return None\n",
    "        return self.stack_list[-1]\n",
    "    def push(self, value): # complexity O(1)\n",
    "        self.stack_list.append(value)\n",
    "        self.stack_size += 1\n",
    "    def pop(self): # complexity O(1)\n",
    "        if self.is_empty():\n",
    "            return None\n",
    "        self.stack_size -= 1\n",
    "        return self.stack_list.pop()\n",
    "    def print_stack(self):\n",
    "        print(self.stack_list)\n",
    "    "
   ]
  },
  {
   "cell_type": "code",
   "execution_count": 45,
   "metadata": {},
   "outputs": [
    {
     "name": "stdout",
     "output_type": "stream",
     "text": [
      "[0, 1, 2, 3, 4, 5, 6, 7, 8, 9]\n",
      "9\n",
      "9\n",
      "8\n",
      "False\n",
      "8\n",
      "7\n"
     ]
    }
   ],
   "source": [
    "# Tests\n",
    "\n",
    "stack = Stack_lists()\n",
    "for i in range(10):\n",
    "    stack.push(i)\n",
    "stack.print_stack()\n",
    "print(stack.peek())\n",
    "print(stack.pop())\n",
    "print(stack.peek())\n",
    "print(stack.is_empty())\n",
    "print(stack.pop())\n",
    "print(stack.pop())\n"
   ]
  },
  {
   "attachments": {},
   "cell_type": "markdown",
   "metadata": {},
   "source": [
    "## Stack implementation using SLL"
   ]
  },
  {
   "cell_type": "code",
   "execution_count": 46,
   "metadata": {},
   "outputs": [],
   "source": [
    "from helper import LinkedList\n",
    "\n",
    "class Stack_SLL:\n",
    "    def __init__(self):\n",
    "        self.stack = LinkedList()\n",
    "        # we do not need to keep track of the size, we can use the size of the linked list instead\n",
    "    def is_empty(self): # complexity O(1)\n",
    "        return self.stack.head is None\n",
    "    def size(self):\n",
    "        self.stack.size\n",
    "    def peek(self): # complexity O(1)\n",
    "        if self.is_empty():\n",
    "            return None\n",
    "        return self.stack.head.data\n",
    "    def push(self, data):\n",
    "        self.stack.insert_at_head(data)\n",
    "    def pop(self):\n",
    "        if self.is_empty():\n",
    "            return None\n",
    "        temp = self.stack.head.data\n",
    "        self.stack.delete_at_head()\n",
    "        return temp\n",
    "    def print_stack(self):\n",
    "        self.stack.print_list()\n"
   ]
  },
  {
   "cell_type": "code",
   "execution_count": 47,
   "metadata": {},
   "outputs": [
    {
     "name": "stdout",
     "output_type": "stream",
     "text": [
      "9 -> 8 -> 7 -> 6 -> 5 -> 4 -> 3 -> 2 -> 1 -> 0 -> None\n",
      "9\n",
      "9\n",
      "8\n",
      "False\n",
      "8\n",
      "7\n"
     ]
    }
   ],
   "source": [
    "# Tests\n",
    "\n",
    "stack = Stack_SLL()\n",
    "for i in range(10):\n",
    "    stack.push(i)\n",
    "stack.print_stack()\n",
    "print(stack.peek())\n",
    "print(stack.pop())\n",
    "print(stack.peek())\n",
    "print(stack.is_empty())\n",
    "print(stack.pop())\n",
    "print(stack.pop())\n"
   ]
  }
 ],
 "metadata": {
  "kernelspec": {
   "display_name": "Python 3",
   "language": "python",
   "name": "python3"
  },
  "language_info": {
   "codemirror_mode": {
    "name": "ipython",
    "version": 3
   },
   "file_extension": ".py",
   "mimetype": "text/x-python",
   "name": "python",
   "nbconvert_exporter": "python",
   "pygments_lexer": "ipython3",
   "version": "3.10.11"
  },
  "orig_nbformat": 4
 },
 "nbformat": 4,
 "nbformat_minor": 2
}
