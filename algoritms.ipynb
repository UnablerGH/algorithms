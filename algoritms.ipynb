{
 "cells": [
  {
   "attachments": {},
   "cell_type": "markdown",
   "metadata": {},
   "source": [
    "# **Lists**"
   ]
  },
  {
   "attachments": {},
   "cell_type": "markdown",
   "metadata": {},
   "source": [
    "## **First Non-Repeating Integer in a List**"
   ]
  },
  {
   "attachments": {},
   "cell_type": "markdown",
   "metadata": {},
   "source": [
    "### **Brute Force**"
   ]
  },
  {
   "cell_type": "code",
   "execution_count": 48,
   "metadata": {},
   "outputs": [
    {
     "name": "stdout",
     "output_type": "stream",
     "text": [
      "5\n",
      "9\n"
     ]
    }
   ],
   "source": [
    "def find_first_unique(lst):\n",
    "    for i in range(len(lst)):\n",
    "       temp = []\n",
    "       for j in range(len(lst)):\n",
    "           if i == j:\n",
    "               continue\n",
    "           temp.append(lst[j])\n",
    "       if lst[i] not in temp:\n",
    "           return lst[i]\n",
    "       temp.clear()\n",
    "           \n",
    "print(find_first_unique([4, 5, 1, 2, 0, 4]))\n",
    "print(find_first_unique([9, 2, 3, 2, 6, 6]))"
   ]
  },
  {
   "attachments": {},
   "cell_type": "markdown",
   "metadata": {},
   "source": [
    "## **Find Second Maximum Value in a List**"
   ]
  },
  {
   "attachments": {},
   "cell_type": "markdown",
   "metadata": {},
   "source": [
    "### **Sort and find by index**"
   ]
  },
  {
   "cell_type": "code",
   "execution_count": null,
   "metadata": {},
   "outputs": [],
   "source": [
    "def find_second_maximum(lst):\n",
    "    lst.sort()\n",
    "    if len(lst) >= 2:\n",
    "        return lst[-2]\n",
    "    else:\n",
    "        return None\n",
    "\n",
    "\n",
    "print(find_second_maximum([9, 2, 3, 6]))"
   ]
  },
  {
   "attachments": {},
   "cell_type": "markdown",
   "metadata": {},
   "source": [
    "### **Iterating twice over list**"
   ]
  },
  {
   "cell_type": "code",
   "execution_count": 49,
   "metadata": {},
   "outputs": [
    {
     "name": "stdout",
     "output_type": "stream",
     "text": [
      "6\n",
      "4\n"
     ]
    }
   ],
   "source": [
    "def find_second_maximum(lst):\n",
    "    if (len(lst) < 2):\n",
    "       return\n",
    "    max = float('-inf')\n",
    "    for element in lst:\n",
    "        if element > max:\n",
    "            max = element\n",
    "    lst.remove(max)\n",
    "    max = float('-inf')\n",
    "    for element in lst:\n",
    "        if element > max:\n",
    "            max = element\n",
    "    return max\n",
    "\n",
    "print(find_second_maximum([9, 2, 3, 6]))\n",
    "print(find_second_maximum([4, 2, 1, 5, 0]))\n",
    "\n",
    "# float(\"-inf\") - minus infinity\n",
    "# Complexity O(n)"
   ]
  },
  {
   "attachments": {},
   "cell_type": "markdown",
   "metadata": {},
   "source": [
    "### **Iterating Once over list**"
   ]
  },
  {
   "cell_type": "code",
   "execution_count": 50,
   "metadata": {},
   "outputs": [
    {
     "name": "stdout",
     "output_type": "stream",
     "text": [
      "6\n",
      "4\n"
     ]
    }
   ],
   "source": [
    "def find_second_maximum(lst):\n",
    "   if (len(lst) < 2):\n",
    "       return\n",
    "   max_no = second_max_no = float('-inf')\n",
    "   for i in range(len(lst)):  \n",
    "       if (lst[i] > max_no):\n",
    "           second_max_no = max_no\n",
    "           max_no = lst[i] \n",
    "       elif (lst[i] > second_max_no and lst[i] != max_no):\n",
    "           second_max_no = lst[i]\n",
    "   if (second_max_no == float('-inf')):\n",
    "       return\n",
    "   else:\n",
    "       return second_max_no\n",
    "\n",
    "\n",
    "print(find_second_maximum([9, 2, 3, 6]))\n",
    "print(find_second_maximum([4, 2, 1, 5, 0]))\n",
    "\n",
    "# Complexity O(n)"
   ]
  },
  {
   "attachments": {},
   "cell_type": "markdown",
   "metadata": {},
   "source": [
    "## **Right Rotate List**"
   ]
  },
  {
   "attachments": {},
   "cell_type": "markdown",
   "metadata": {},
   "source": [
    "### **Manual Rotation using second list**"
   ]
  },
  {
   "cell_type": "code",
   "execution_count": 51,
   "metadata": {},
   "outputs": [
    {
     "name": "stdout",
     "output_type": "stream",
     "text": [
      "[]\n",
      "[2, 3, 4, 5, 1]\n",
      "[-1, 3, 0, 300]\n",
      "[0, 2, 0, 0]\n",
      "['13', 'a', 'Python']\n",
      "['python', 'right', 'rotate']\n"
     ]
    }
   ],
   "source": [
    "def right_rotate(lst, k):\n",
    "    if k == 0 or len(lst) == 0:\n",
    "        return lst\n",
    "    if k > len(lst):\n",
    "        k = k % len(lst)\n",
    "    rotated = []\n",
    "    for i in range(len(lst)-k, len(lst)):\n",
    "        rotated.append(lst[i])\n",
    "    for i in range(len(lst)-k):\n",
    "        rotated.append(lst[i])\n",
    "    return rotated\n",
    "\n",
    "print(right_rotate([], 1))\n",
    "print(right_rotate([1, 2, 3, 4, 5], 4))\n",
    "print(right_rotate([300, -1, 3, 0], 3))\n",
    "print(right_rotate([0, 0, 0, 2], 2))\n",
    "print(right_rotate(['13', 'a', 'Python'], 3))\n",
    "print(right_rotate(['right', 'rotate', 'python'],4))\n",
    "\n",
    "# Complexity O(n)"
   ]
  },
  {
   "attachments": {},
   "cell_type": "markdown",
   "metadata": {},
   "source": [
    "### **More \"pythonish\" solution**"
   ]
  },
  {
   "cell_type": "code",
   "execution_count": 52,
   "metadata": {},
   "outputs": [
    {
     "name": "stdout",
     "output_type": "stream",
     "text": [
      "[40, 50, 10, 20, 30]\n"
     ]
    }
   ],
   "source": [
    "def right_rotate(lst, k):\n",
    "    # get rotation index\n",
    "    if len(lst) == 0:\n",
    "        k = 0\n",
    "    else:\n",
    "        k = k % len(lst)\n",
    "    return lst[-k:] + lst[:-k]\n",
    "\n",
    "\n",
    "print(right_rotate([10, 20, 30, 40, 50], 12))\n",
    "\n",
    "# Shorter code - more \"pythonic\", complexity is also O(n)"
   ]
  },
  {
   "attachments": {},
   "cell_type": "markdown",
   "metadata": {},
   "source": [
    "## **Rearrange Positive & Negative Values**"
   ]
  },
  {
   "attachments": {},
   "cell_type": "markdown",
   "metadata": {},
   "source": [
    "### **Using Auxiliary Lists**"
   ]
  },
  {
   "cell_type": "code",
   "execution_count": 53,
   "metadata": {},
   "outputs": [],
   "source": [
    "def rearrange(lst):\n",
    "    negatives = []\n",
    "    positives = []\n",
    "    for element in lst:\n",
    "        if element >= 0:\n",
    "            positives.append(element)\n",
    "        else:\n",
    "            negatives.append(element)\n",
    "    return negatives + positives\n",
    "\n",
    "# Time complexity of this solution is O(n)"
   ]
  },
  {
   "attachments": {},
   "cell_type": "markdown",
   "metadata": {},
   "source": [
    "### **Rearranging in Place**"
   ]
  },
  {
   "cell_type": "code",
   "execution_count": 54,
   "metadata": {},
   "outputs": [
    {
     "name": "stdout",
     "output_type": "stream",
     "text": [
      "[-1, -9, -6, 4, 5, 10, 20]\n"
     ]
    }
   ],
   "source": [
    "def rearrange(lst):\n",
    "    leftMostPosEle = 0  # index of left most element\n",
    "    # iterate the list\n",
    "    for curr in range(len(lst)):\n",
    "        # if negative number\n",
    "        if lst[curr] < 0:\n",
    "            # if not the last negative number\n",
    "            if curr != leftMostPosEle:\n",
    "                # swap the two\n",
    "                lst[curr], lst[leftMostPosEle] = lst[leftMostPosEle], lst[curr]\n",
    "            # update the last position\n",
    "            leftMostPosEle += 1\n",
    "    return lst\n",
    "\n",
    "\n",
    "print(rearrange([10, -1, 20, 4, 5, -9, -6]))\n",
    "\n",
    "# Time complexity of O(n)"
   ]
  },
  {
   "attachments": {},
   "cell_type": "markdown",
   "metadata": {},
   "source": [
    "### **More pythonic**"
   ]
  },
  {
   "cell_type": "code",
   "execution_count": 55,
   "metadata": {},
   "outputs": [
    {
     "name": "stdout",
     "output_type": "stream",
     "text": [
      "[-1, -9, -6, 10, 20, 4, 5]\n"
     ]
    }
   ],
   "source": [
    "def rearrange(lst):\n",
    "    # get negative and positive list after filter and then merge\n",
    "    return [i for i in lst if i < 0] + [i for i in lst if i >= 0]\n",
    "\n",
    "\n",
    "print(rearrange([10, -1, 20, 4, 5, -9, -6]))\n",
    "\n",
    "# Basically the same as using auxiliary lists, but shorter code!"
   ]
  },
  {
   "attachments": {},
   "cell_type": "markdown",
   "metadata": {},
   "source": [
    "## **Rearrange Sorted List in Max/Min Form**"
   ]
  },
  {
   "attachments": {},
   "cell_type": "markdown",
   "metadata": {},
   "source": [
    "### **Assuming list is not sorted**"
   ]
  },
  {
   "cell_type": "code",
   "execution_count": 56,
   "metadata": {},
   "outputs": [
    {
     "name": "stdout",
     "output_type": "stream",
     "text": [
      "[7, 1, 6, 2, 5, 3, 4]\n",
      "[5, 1, 4, 2, 3]\n",
      "[]\n",
      "[1, 1, 1, 1, 1]\n",
      "[1, -10, 1, -1, 1, 1]\n"
     ]
    }
   ],
   "source": [
    "def max_min(lst):\n",
    "    out = []\n",
    "    for i in range(-(-len(lst) // 2)):\n",
    "        min = float('+inf')\n",
    "        max = float('-inf')\n",
    "        for element in lst:\n",
    "            if element > max:\n",
    "                max = element\n",
    "            if element < min:\n",
    "                min = element\n",
    "        if max in lst:\n",
    "            out.append(max)\n",
    "            lst.remove(max)\n",
    "        if min in lst:\n",
    "            out.append(min)\n",
    "            lst.remove(min)\n",
    "        \n",
    "    return out\n",
    "\n",
    "print(max_min([1, 2, 3, 4, 5, 6, 7]))\n",
    "print(max_min([1, 2, 3, 4, 5]))\n",
    "print(max_min([]))\n",
    "print(max_min([1, 1, 1, 1, 1]))\n",
    "print(max_min([-10, -1, 1, 1, 1, 1]))\n",
    "\n",
    "# Bad optimised, time complexity O(n^2)"
   ]
  },
  {
   "attachments": {},
   "cell_type": "markdown",
   "metadata": {},
   "source": [
    "### **Creating new list**"
   ]
  },
  {
   "cell_type": "code",
   "execution_count": 57,
   "metadata": {},
   "outputs": [
    {
     "name": "stdout",
     "output_type": "stream",
     "text": [
      "[6, 1, 5, 2, 4, 3]\n"
     ]
    }
   ],
   "source": [
    "def max_min(lst):\n",
    "    result = []\n",
    "    # iterate half list\n",
    "    for i in range(len(lst)//2):\n",
    "        # Append corresponding last element\n",
    "        result.append(lst[-(i+1)])\n",
    "        # append current element\n",
    "        result.append(lst[i])\n",
    "    if len(lst) % 2 == 1:\n",
    "        # if middle value then append\n",
    "        result.append(lst[len(lst)//2])\n",
    "    return result\n",
    "\n",
    "\n",
    "print(max_min([1, 2, 3, 4, 5, 6]))\n",
    "\n",
    "# Time complexity of O(n)"
   ]
  },
  {
   "attachments": {},
   "cell_type": "markdown",
   "metadata": {},
   "source": [
    "### **Using Extra Space - Efficient Algorithm**"
   ]
  },
  {
   "cell_type": "code",
   "execution_count": 62,
   "metadata": {},
   "outputs": [
    {
     "name": "stdout",
     "output_type": "stream",
     "text": [
      "[9, 0, 8, 1, 7, 2, 6, 3, 5, 4]\n"
     ]
    }
   ],
   "source": [
    "def max_min(lst):\n",
    "    # Return empty list for empty list\n",
    "    if (len(lst) == 0):\n",
    "        return []\n",
    "\n",
    "    maxIdx = len(lst) - 1  # max index\n",
    "    minIdx = 0  # first index\n",
    "    maxElem = lst[-1] + 1  # Max element\n",
    "    # traverse the list\n",
    "    for i in range(len(lst)):\n",
    "        # even number means max element to append\n",
    "        if i % 2 == 0:\n",
    "            lst[i] += (lst[maxIdx] % maxElem) * maxElem\n",
    "            maxIdx -= 1\n",
    "        # odd number means min number\n",
    "        else:\n",
    "            lst[i] += (lst[minIdx] % maxElem) * maxElem\n",
    "            minIdx += 1\n",
    "\n",
    "    for i in range(len(lst)):\n",
    "        lst[i] = lst[i] // maxElem\n",
    "    return lst\n",
    "\n",
    "\n",
    "print(max_min([0, 1, 2, 3, 4, 5, 6, 7, 8, 9]))\n",
    "\n",
    "# Complexity is O(n)\n",
    "# Space complexity is O(1)\n",
    "# Works only for non-negative numbers"
   ]
  },
  {
   "cell_type": "code",
   "execution_count": null,
   "metadata": {},
   "outputs": [],
   "source": []
  }
 ],
 "metadata": {
  "kernelspec": {
   "display_name": "Python 3",
   "language": "python",
   "name": "python3"
  },
  "language_info": {
   "codemirror_mode": {
    "name": "ipython",
    "version": 3
   },
   "file_extension": ".py",
   "mimetype": "text/x-python",
   "name": "python",
   "nbconvert_exporter": "python",
   "pygments_lexer": "ipython3",
   "version": "3.10.11"
  },
  "orig_nbformat": 4
 },
 "nbformat": 4,
 "nbformat_minor": 2
}
