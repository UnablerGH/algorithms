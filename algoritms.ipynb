{
 "cells": [
  {
   "attachments": {},
   "cell_type": "markdown",
   "metadata": {},
   "source": [
    "# **First Non-Repeating Integer in a List**"
   ]
  },
  {
   "cell_type": "code",
   "execution_count": 5,
   "metadata": {},
   "outputs": [
    {
     "name": "stdout",
     "output_type": "stream",
     "text": [
      "5\n",
      "9\n"
     ]
    }
   ],
   "source": [
    "def find_first_unique(lst):\n",
    "    for i in range(len(lst)):\n",
    "       temp = []\n",
    "       for j in range(len(lst)):\n",
    "           if i == j:\n",
    "               continue\n",
    "           temp.append(lst[j])\n",
    "       if lst[i] not in temp:\n",
    "           return lst[i]\n",
    "       temp.clear()\n",
    "           \n",
    "print(find_first_unique([4, 5, 1, 2, 0, 4]))\n",
    "print(find_first_unique([9, 2, 3, 2, 6, 6]))"
   ]
  },
  {
   "cell_type": "code",
   "execution_count": null,
   "metadata": {},
   "outputs": [],
   "source": []
  }
 ],
 "metadata": {
  "kernelspec": {
   "display_name": "Python 3",
   "language": "python",
   "name": "python3"
  },
  "language_info": {
   "codemirror_mode": {
    "name": "ipython",
    "version": 3
   },
   "file_extension": ".py",
   "mimetype": "text/x-python",
   "name": "python",
   "nbconvert_exporter": "python",
   "pygments_lexer": "ipython3",
   "version": "3.10.11"
  },
  "orig_nbformat": 4
 },
 "nbformat": 4,
 "nbformat_minor": 2
}
