{
 "cells": [
  {
   "attachments": {},
   "cell_type": "markdown",
   "metadata": {},
   "source": [
    "# **First Non-Repeating Integer in a List**"
   ]
  },
  {
   "cell_type": "code",
   "execution_count": 10,
   "metadata": {},
   "outputs": [
    {
     "name": "stdout",
     "output_type": "stream",
     "text": [
      "5\n",
      "9\n"
     ]
    }
   ],
   "source": [
    "def find_first_unique(lst):\n",
    "    for i in range(len(lst)):\n",
    "       temp = []\n",
    "       for j in range(len(lst)):\n",
    "           if i == j:\n",
    "               continue\n",
    "           temp.append(lst[j])\n",
    "       if lst[i] not in temp:\n",
    "           return lst[i]\n",
    "       temp.clear()\n",
    "           \n",
    "print(find_first_unique([4, 5, 1, 2, 0, 4]))\n",
    "print(find_first_unique([9, 2, 3, 2, 6, 6]))"
   ]
  },
  {
   "attachments": {},
   "cell_type": "markdown",
   "metadata": {},
   "source": [
    "# **Find Second Maximum Value in a List**"
   ]
  },
  {
   "cell_type": "code",
   "execution_count": 11,
   "metadata": {},
   "outputs": [
    {
     "name": "stdout",
     "output_type": "stream",
     "text": [
      "6\n",
      "4\n"
     ]
    }
   ],
   "source": [
    "def find_second_maximum(lst):\n",
    "    if (len(lst) < 2):\n",
    "       return\n",
    "    max = float('-inf')\n",
    "    for element in lst:\n",
    "        if element > max:\n",
    "            max = element\n",
    "    lst.remove(max)\n",
    "    max = float('-inf')\n",
    "    for element in lst:\n",
    "        if element > max:\n",
    "            max = element\n",
    "    return max\n",
    "\n",
    "print(find_second_maximum([9, 2, 3, 6]))\n",
    "print(find_second_maximum([4, 2, 1, 5, 0]))\n",
    "\n",
    "# float(\"-inf\") - minus infinity\n",
    "# Complexity O(n)"
   ]
  },
  {
   "cell_type": "code",
   "execution_count": 12,
   "metadata": {},
   "outputs": [
    {
     "name": "stdout",
     "output_type": "stream",
     "text": [
      "6\n",
      "4\n"
     ]
    }
   ],
   "source": [
    "def find_second_maximum(lst):\n",
    "   if (len(lst) < 2):\n",
    "       return\n",
    "   max_no = second_max_no = float('-inf')\n",
    "   for i in range(len(lst)):  \n",
    "       if (lst[i] > max_no):\n",
    "           second_max_no = max_no\n",
    "           max_no = lst[i] \n",
    "       elif (lst[i] > second_max_no and lst[i] != max_no):\n",
    "           second_max_no = lst[i]\n",
    "   if (second_max_no == float('-inf')):\n",
    "       return\n",
    "   else:\n",
    "       return second_max_no\n",
    "\n",
    "\n",
    "print(find_second_maximum([9, 2, 3, 6]))\n",
    "print(find_second_maximum([4, 2, 1, 5, 0]))\n",
    "\n",
    "# Complexity O(n) thus traveling list in one traversal making algorithm better"
   ]
  },
  {
   "attachments": {},
   "cell_type": "markdown",
   "metadata": {},
   "source": [
    "# **Right Rotate List**"
   ]
  },
  {
   "cell_type": "code",
   "execution_count": 16,
   "metadata": {},
   "outputs": [
    {
     "name": "stdout",
     "output_type": "stream",
     "text": [
      "2\n"
     ]
    }
   ],
   "source": [
    "def right_rotate(lst, k):\n",
    "    if k == 0 or len(lst) == 0:\n",
    "        return lst\n",
    "    if k > len(lst):\n",
    "        k = k % len(lst)\n",
    "    rotated = []\n",
    "    for i in range(len(lst)-k, len(lst)):\n",
    "        rotated.append(lst[i])\n",
    "    for i in range(len(lst)-k):\n",
    "        rotated.append(lst[i])\n",
    "    return rotated\n",
    "\n",
    "print(right_rotate([], 1))\n",
    "print(right_rotate([1, 2, 3, 4, 5], 2))\n",
    "print(right_rotate([300, -1, 3, 0], 3))\n",
    "print(right_rotate([0, 0, 0, 2], 2))\n",
    "print(right_rotate(['13', 'a', 'Python'], 3))\n",
    "print(right_rotate(['right', 'rotate', 'python'],4))"
   ]
  }
 ],
 "metadata": {
  "kernelspec": {
   "display_name": "Python 3",
   "language": "python",
   "name": "python3"
  },
  "language_info": {
   "codemirror_mode": {
    "name": "ipython",
    "version": 3
   },
   "file_extension": ".py",
   "mimetype": "text/x-python",
   "name": "python",
   "nbconvert_exporter": "python",
   "pygments_lexer": "ipython3",
   "version": "3.10.11"
  },
  "orig_nbformat": 4
 },
 "nbformat": 4,
 "nbformat_minor": 2
}
