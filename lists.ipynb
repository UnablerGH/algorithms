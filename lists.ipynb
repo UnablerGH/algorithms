{
 "cells": [
  {
   "attachments": {},
   "cell_type": "markdown",
   "metadata": {},
   "source": [
    "# **Lists**"
   ]
  },
  {
   "attachments": {},
   "cell_type": "markdown",
   "metadata": {},
   "source": [
    "## **First Non-Repeating Integer in a List**"
   ]
  },
  {
   "attachments": {},
   "cell_type": "markdown",
   "metadata": {},
   "source": [
    "### **Brute Force**"
   ]
  },
  {
   "cell_type": "code",
   "execution_count": 1,
   "metadata": {},
   "outputs": [
    {
     "name": "stdout",
     "output_type": "stream",
     "text": [
      "5\n",
      "9\n"
     ]
    }
   ],
   "source": [
    "def find_first_unique(lst):\n",
    "    for i in range(len(lst)):\n",
    "       temp = []\n",
    "       for j in range(len(lst)):\n",
    "           if i == j:\n",
    "               continue\n",
    "           temp.append(lst[j])\n",
    "       if lst[i] not in temp:\n",
    "           return lst[i]\n",
    "       temp.clear()\n",
    "           \n",
    "print(find_first_unique([4, 5, 1, 2, 0, 4]))\n",
    "print(find_first_unique([9, 2, 3, 2, 6, 6]))"
   ]
  },
  {
   "attachments": {},
   "cell_type": "markdown",
   "metadata": {},
   "source": [
    "## **Find Second Maximum Value in a List**"
   ]
  },
  {
   "attachments": {},
   "cell_type": "markdown",
   "metadata": {},
   "source": [
    "### **Sort and find by index**"
   ]
  },
  {
   "cell_type": "code",
   "execution_count": 2,
   "metadata": {},
   "outputs": [
    {
     "name": "stdout",
     "output_type": "stream",
     "text": [
      "6\n"
     ]
    }
   ],
   "source": [
    "def find_second_maximum(lst):\n",
    "    lst.sort()\n",
    "    if len(lst) >= 2:\n",
    "        return lst[-2]\n",
    "    else:\n",
    "        return None\n",
    "\n",
    "\n",
    "print(find_second_maximum([9, 2, 3, 6]))"
   ]
  },
  {
   "attachments": {},
   "cell_type": "markdown",
   "metadata": {},
   "source": [
    "### **Iterating twice over list**"
   ]
  },
  {
   "cell_type": "code",
   "execution_count": 3,
   "metadata": {},
   "outputs": [
    {
     "name": "stdout",
     "output_type": "stream",
     "text": [
      "6\n",
      "4\n"
     ]
    }
   ],
   "source": [
    "def find_second_maximum(lst):\n",
    "    if (len(lst) < 2):\n",
    "       return\n",
    "    max = float('-inf')\n",
    "    for element in lst:\n",
    "        if element > max:\n",
    "            max = element\n",
    "    lst.remove(max)\n",
    "    max = float('-inf')\n",
    "    for element in lst:\n",
    "        if element > max:\n",
    "            max = element\n",
    "    return max\n",
    "\n",
    "print(find_second_maximum([9, 2, 3, 6]))\n",
    "print(find_second_maximum([4, 2, 1, 5, 0]))\n",
    "\n",
    "# float(\"-inf\") - minus infinity\n",
    "# Complexity O(n)"
   ]
  },
  {
   "attachments": {},
   "cell_type": "markdown",
   "metadata": {},
   "source": [
    "### **Iterating Once over list**"
   ]
  },
  {
   "cell_type": "code",
   "execution_count": 4,
   "metadata": {},
   "outputs": [
    {
     "name": "stdout",
     "output_type": "stream",
     "text": [
      "6\n",
      "4\n"
     ]
    }
   ],
   "source": [
    "def find_second_maximum(lst):\n",
    "   if (len(lst) < 2):\n",
    "       return\n",
    "   max_no = second_max_no = float('-inf')\n",
    "   for i in range(len(lst)):  \n",
    "       if (lst[i] > max_no):\n",
    "           second_max_no = max_no\n",
    "           max_no = lst[i] \n",
    "       elif (lst[i] > second_max_no and lst[i] != max_no):\n",
    "           second_max_no = lst[i]\n",
    "   if (second_max_no == float('-inf')):\n",
    "       return\n",
    "   else:\n",
    "       return second_max_no\n",
    "\n",
    "\n",
    "print(find_second_maximum([9, 2, 3, 6]))\n",
    "print(find_second_maximum([4, 2, 1, 5, 0]))\n",
    "\n",
    "# Complexity O(n)"
   ]
  },
  {
   "attachments": {},
   "cell_type": "markdown",
   "metadata": {},
   "source": [
    "## **Right Rotate List**"
   ]
  },
  {
   "attachments": {},
   "cell_type": "markdown",
   "metadata": {},
   "source": [
    "### **Manual Rotation using second list**"
   ]
  },
  {
   "cell_type": "code",
   "execution_count": 5,
   "metadata": {},
   "outputs": [
    {
     "name": "stdout",
     "output_type": "stream",
     "text": [
      "[]\n",
      "[2, 3, 4, 5, 1]\n",
      "[-1, 3, 0, 300]\n",
      "[0, 2, 0, 0]\n",
      "['13', 'a', 'Python']\n",
      "['python', 'right', 'rotate']\n"
     ]
    }
   ],
   "source": [
    "def right_rotate(lst, k):\n",
    "    if k == 0 or len(lst) == 0:\n",
    "        return lst\n",
    "    if k > len(lst):\n",
    "        k = k % len(lst)\n",
    "    rotated = []\n",
    "    for i in range(len(lst)-k, len(lst)):\n",
    "        rotated.append(lst[i])\n",
    "    for i in range(len(lst)-k):\n",
    "        rotated.append(lst[i])\n",
    "    return rotated\n",
    "\n",
    "print(right_rotate([], 1))\n",
    "print(right_rotate([1, 2, 3, 4, 5], 4))\n",
    "print(right_rotate([300, -1, 3, 0], 3))\n",
    "print(right_rotate([0, 0, 0, 2], 2))\n",
    "print(right_rotate(['13', 'a', 'Python'], 3))\n",
    "print(right_rotate(['right', 'rotate', 'python'],4))\n",
    "\n",
    "# Complexity O(n)"
   ]
  },
  {
   "attachments": {},
   "cell_type": "markdown",
   "metadata": {},
   "source": [
    "### **More \"pythonish\" solution**"
   ]
  },
  {
   "cell_type": "code",
   "execution_count": 6,
   "metadata": {},
   "outputs": [
    {
     "name": "stdout",
     "output_type": "stream",
     "text": [
      "[40, 50, 10, 20, 30]\n"
     ]
    }
   ],
   "source": [
    "def right_rotate(lst, k):\n",
    "    # get rotation index\n",
    "    if len(lst) == 0:\n",
    "        k = 0\n",
    "    else:\n",
    "        k = k % len(lst)\n",
    "    return lst[-k:] + lst[:-k]\n",
    "\n",
    "\n",
    "print(right_rotate([10, 20, 30, 40, 50], 12))\n",
    "\n",
    "# Shorter code - more \"pythonic\", complexity is also O(n)"
   ]
  },
  {
   "attachments": {},
   "cell_type": "markdown",
   "metadata": {},
   "source": [
    "## **Rearrange Positive & Negative Values**"
   ]
  },
  {
   "attachments": {},
   "cell_type": "markdown",
   "metadata": {},
   "source": [
    "### **Using Auxiliary Lists**"
   ]
  },
  {
   "cell_type": "code",
   "execution_count": 7,
   "metadata": {},
   "outputs": [],
   "source": [
    "def rearrange(lst):\n",
    "    negatives = []\n",
    "    positives = []\n",
    "    for element in lst:\n",
    "        if element >= 0:\n",
    "            positives.append(element)\n",
    "        else:\n",
    "            negatives.append(element)\n",
    "    return negatives + positives\n",
    "\n",
    "# Time complexity of this solution is O(n)"
   ]
  },
  {
   "attachments": {},
   "cell_type": "markdown",
   "metadata": {},
   "source": [
    "### **Rearranging in Place**"
   ]
  },
  {
   "cell_type": "code",
   "execution_count": 8,
   "metadata": {},
   "outputs": [
    {
     "name": "stdout",
     "output_type": "stream",
     "text": [
      "[-1, -9, -6, 4, 5, 10, 20]\n"
     ]
    }
   ],
   "source": [
    "def rearrange(lst):\n",
    "    leftMostPosEle = 0  # index of left most element\n",
    "    # iterate the list\n",
    "    for curr in range(len(lst)):\n",
    "        # if negative number\n",
    "        if lst[curr] < 0:\n",
    "            # if not the last negative number\n",
    "            if curr != leftMostPosEle:\n",
    "                # swap the two\n",
    "                lst[curr], lst[leftMostPosEle] = lst[leftMostPosEle], lst[curr]\n",
    "            # update the last position\n",
    "            leftMostPosEle += 1\n",
    "    return lst\n",
    "\n",
    "\n",
    "print(rearrange([10, -1, 20, 4, 5, -9, -6]))\n",
    "\n",
    "# Time complexity of O(n)"
   ]
  },
  {
   "attachments": {},
   "cell_type": "markdown",
   "metadata": {},
   "source": [
    "### **More pythonic**"
   ]
  },
  {
   "cell_type": "code",
   "execution_count": 9,
   "metadata": {},
   "outputs": [
    {
     "name": "stdout",
     "output_type": "stream",
     "text": [
      "[-1, -9, -6, 10, 20, 4, 5]\n"
     ]
    }
   ],
   "source": [
    "def rearrange(lst):\n",
    "    # get negative and positive list after filter and then merge\n",
    "    return [i for i in lst if i < 0] + [i for i in lst if i >= 0]\n",
    "\n",
    "\n",
    "print(rearrange([10, -1, 20, 4, 5, -9, -6]))\n",
    "\n",
    "# Basically the same as using auxiliary lists, but shorter code!"
   ]
  },
  {
   "attachments": {},
   "cell_type": "markdown",
   "metadata": {},
   "source": [
    "## **Rearrange Sorted List in Max/Min Form**"
   ]
  },
  {
   "attachments": {},
   "cell_type": "markdown",
   "metadata": {},
   "source": [
    "### **Assuming list is not sorted**"
   ]
  },
  {
   "cell_type": "code",
   "execution_count": 10,
   "metadata": {},
   "outputs": [
    {
     "name": "stdout",
     "output_type": "stream",
     "text": [
      "[7, 1, 6, 2, 5, 3, 4]\n",
      "[5, 1, 4, 2, 3]\n",
      "[]\n",
      "[1, 1, 1, 1, 1]\n",
      "[1, -10, 1, -1, 1, 1]\n"
     ]
    }
   ],
   "source": [
    "def max_min(lst):\n",
    "    out = []\n",
    "    for i in range(-(-len(lst) // 2)):\n",
    "        min = float('+inf')\n",
    "        max = float('-inf')\n",
    "        for element in lst:\n",
    "            if element > max:\n",
    "                max = element\n",
    "            if element < min:\n",
    "                min = element\n",
    "        if max in lst:\n",
    "            out.append(max)\n",
    "            lst.remove(max)\n",
    "        if min in lst:\n",
    "            out.append(min)\n",
    "            lst.remove(min)\n",
    "        \n",
    "    return out\n",
    "\n",
    "print(max_min([1, 2, 3, 4, 5, 6, 7]))\n",
    "print(max_min([1, 2, 3, 4, 5]))\n",
    "print(max_min([]))\n",
    "print(max_min([1, 1, 1, 1, 1]))\n",
    "print(max_min([-10, -1, 1, 1, 1, 1]))\n",
    "\n",
    "# Bad optimised, time complexity O(n^2)"
   ]
  },
  {
   "attachments": {},
   "cell_type": "markdown",
   "metadata": {},
   "source": [
    "### **Creating new list**"
   ]
  },
  {
   "cell_type": "code",
   "execution_count": 11,
   "metadata": {},
   "outputs": [
    {
     "name": "stdout",
     "output_type": "stream",
     "text": [
      "[6, 1, 5, 2, 4, 3]\n"
     ]
    }
   ],
   "source": [
    "def max_min(lst):\n",
    "    result = []\n",
    "    # iterate half list\n",
    "    for i in range(len(lst)//2):\n",
    "        # Append corresponding last element\n",
    "        result.append(lst[-(i+1)])\n",
    "        # append current element\n",
    "        result.append(lst[i])\n",
    "    if len(lst) % 2 == 1:\n",
    "        # if middle value then append\n",
    "        result.append(lst[len(lst)//2])\n",
    "    return result\n",
    "\n",
    "\n",
    "print(max_min([1, 2, 3, 4, 5, 6]))\n",
    "\n",
    "# Time complexity of O(n)"
   ]
  },
  {
   "attachments": {},
   "cell_type": "markdown",
   "metadata": {},
   "source": [
    "### **Using Extra Space - Efficient Algorithm**"
   ]
  },
  {
   "cell_type": "code",
   "execution_count": 12,
   "metadata": {},
   "outputs": [
    {
     "name": "stdout",
     "output_type": "stream",
     "text": [
      "[9, 0, 8, 1, 7, 2, 6, 3, 5, 4]\n"
     ]
    }
   ],
   "source": [
    "def max_min(lst):\n",
    "    # Return empty list for empty list\n",
    "    if (len(lst) == 0):\n",
    "        return []\n",
    "\n",
    "    maxIdx = len(lst) - 1  # max index\n",
    "    minIdx = 0  # first index\n",
    "    maxElem = lst[-1] + 1  # Max element\n",
    "    # traverse the list\n",
    "    for i in range(len(lst)):\n",
    "        # even number means max element to append\n",
    "        if i % 2 == 0:\n",
    "            lst[i] += (lst[maxIdx] % maxElem) * maxElem\n",
    "            maxIdx -= 1\n",
    "        # odd number means min number\n",
    "        else:\n",
    "            lst[i] += (lst[minIdx] % maxElem) * maxElem\n",
    "            minIdx += 1\n",
    "\n",
    "    for i in range(len(lst)):\n",
    "        lst[i] = lst[i] // maxElem\n",
    "    return lst\n",
    "\n",
    "\n",
    "print(max_min([0, 1, 2, 3, 4, 5, 6, 7, 8, 9]))\n",
    "\n",
    "# Complexity is O(n)\n",
    "# Space complexity is O(1)\n",
    "# Works only for non-negative numbers"
   ]
  },
  {
   "attachments": {},
   "cell_type": "markdown",
   "metadata": {},
   "source": [
    "# **Linked Lists**"
   ]
  },
  {
   "attachments": {},
   "cell_type": "markdown",
   "metadata": {},
   "source": [
    "## **Singly Linked Lists (SLL)**"
   ]
  },
  {
   "attachments": {},
   "cell_type": "markdown",
   "metadata": {},
   "source": [
    "### **Implementation in python**"
   ]
  },
  {
   "cell_type": "code",
   "execution_count": 13,
   "metadata": {},
   "outputs": [],
   "source": [
    "# Implementation of a Linked List\n",
    "\n",
    "class Node():\n",
    "    def __init__(self, data):\n",
    "        self.data = data\n",
    "        self.next = None\n",
    "\n",
    "\n",
    "class LinkedList():\n",
    "    def __init__(self, head=None):\n",
    "        self.head = head\n",
    "    def get_head(self): # O(1)\n",
    "        return self.head\n",
    "    \n",
    "    def insert_at_tail(self,data): # O(n)\n",
    "        new_node = Node(data)\n",
    "        if self.head is None:\n",
    "            self.head = new_node\n",
    "            return\n",
    "        curr_node = self.head\n",
    "        while curr_node.next:\n",
    "            curr_node = curr_node.next\n",
    "        curr_node.next = new_node\n",
    "        return\n",
    "\n",
    "    def is_empty(self): # O(1)\n",
    "        if self.head is None:\n",
    "            return True\n",
    "        else:\n",
    "            return False\n",
    "        \n",
    "    def insert_at_head(self, data): # O(1)\n",
    "        temp_node = Node(data)\n",
    "        temp_node.next = self.head\n",
    "        self.head = temp_node\n",
    "        return self.head\n",
    "\n",
    "    def print_list(self): # O(n)\n",
    "\n",
    "        if self.is_empty():\n",
    "            print(\"List is empty\")\n",
    "            return False\n",
    "        curr_node = self.head\n",
    "        while curr_node.next is not None:\n",
    "            print(curr_node.data, end=\" -> \")\n",
    "            curr_node = curr_node.next\n",
    "        print(curr_node.data, \"-> None\")\n",
    "        return\n",
    "    \n",
    "    def search(self, value): # O(n)\n",
    "        if self.is_empty():\n",
    "            print(\"List is empty\")\n",
    "            return False\n",
    "        curr_node = self.head\n",
    "        while curr_node:\n",
    "            if curr_node.data == value:\n",
    "                return True\n",
    "            curr_node = curr_node.next\n",
    "        return False\n",
    "    \n",
    "    def recursive_search_helper(self, node, value): # O(n)\n",
    "            if node is None:\n",
    "                return False\n",
    "            if node.data == value:\n",
    "                return True\n",
    "            return self.recursive_search_helper(node.next, value)\n",
    "    def recursive_search(self, value):\n",
    "        return self.recursive_search_helper(self.head, value)\n",
    "    \n",
    "    def delete_at_head(self): # O(1)\n",
    "        if self.is_empty():\n",
    "            return False\n",
    "        temp_node = self.head # save the head node\n",
    "        self.head = self.head.next # make the second node the new head node\n",
    "        temp_node.next = None # set the temp node next to None\n",
    "        return \n",
    "    \n",
    "    def delete(self, value): # O(n)\n",
    "        if self.is_empty():\n",
    "            return False\n",
    "        curr_node = self.head\n",
    "        prev_node = None # we need to keep track of the previous node\n",
    "        while curr_node:\n",
    "            if curr_node.data == value:\n",
    "                if prev_node:\n",
    "                    prev_node.next = curr_node.next # remove the node by skipping it\n",
    "                else:\n",
    "                    self.delete_at_head()\n",
    "                return True\n",
    "            prev_node = curr_node\n",
    "            curr_node = curr_node.next\n",
    "        return False\n",
    "    \n",
    "    def delete_at_tail(self): # O(n)\n",
    "        if self.is_empty():\n",
    "            return False\n",
    "        curr_node = self.head\n",
    "        prev_node = None\n",
    "        while curr_node.next:\n",
    "            prev_node = curr_node\n",
    "            curr_node = curr_node.next\n",
    "        prev_node.next = None\n",
    "        return True\n",
    "    \n",
    "    def reverse_iterative(self): # O(n)\n",
    "        \"\"\" Reverse a linked list iteratively\n",
    "        Description:\n",
    "            1. Initialize three pointers prev as NULL, curr as head and next as NULL.\n",
    "            2. Iterate trough the linked list. In loop, do following.\n",
    "            3. Before changing next of current,\n",
    "                1. store next node\n",
    "                2. Now change next of current\n",
    "                3. This is where actual reversing happens\n",
    "            4. Move prev and curr one step forward\n",
    "\n",
    "        \"\"\"\n",
    "        if self.is_empty():\n",
    "            return False\n",
    "        prev_node = None\n",
    "        curr_node = self.head\n",
    "        next_node = None\n",
    "        while curr_node:\n",
    "            next_node = curr_node.next\n",
    "            curr_node.next = prev_node\n",
    "            prev_node = curr_node\n",
    "            curr_node = next_node\n",
    "        self.head = prev_node\n",
    "        return True\n",
    "    \n",
    "    def reverse_recursive(self): # O(n)\n",
    "        \"\"\" Reverse a linked list recursively\n",
    "        Description:\n",
    "            1. Divide the list in two parts - first node and rest of the linked list.\n",
    "            2. Call reverse for the rest of the linked list.\n",
    "            3. Link rest to first.\n",
    "            4. Fix head pointer\n",
    "        \"\"\"\n",
    "        def _reverse_recursive(curr_node, prev_node):\n",
    "            if not curr_node:\n",
    "                return prev_node\n",
    "            next_node = curr_node.next\n",
    "            curr_node.next = prev_node\n",
    "            prev_node = curr_node\n",
    "            curr_node = next_node\n",
    "            return _reverse_recursive(curr_node, prev_node)\n",
    "        self.head = _reverse_recursive(curr_node=self.head, prev_node=None)\n",
    "        return True\n",
    "    \n",
    "    def remove_duplicates(self): # O(n)\n",
    "        if self.is_empty():\n",
    "            return False\n",
    "        curr_node = self.head\n",
    "        prev_node = None\n",
    "        seen_values = dict()\n",
    "        while curr_node:\n",
    "            if curr_node.data in seen_values:\n",
    "                prev_node.next = curr_node.next\n",
    "            else:\n",
    "                seen_values[curr_node.data] = 1 \n",
    "                prev_node = curr_node\n",
    "            curr_node = curr_node.next\n",
    "        return True\n",
    "\n",
    "    def length_iterative(self):\n",
    "        if self.is_empty():\n",
    "            return 0\n",
    "        count = 0\n",
    "        curr_node = self.head\n",
    "        while curr_node:\n",
    "            count += 1\n",
    "            curr_node = curr_node.next\n",
    "        return count\n",
    "    \n",
    "    def length_recursive(self, node):\n",
    "        if node is None:\n",
    "            return 0\n",
    "        return 1 + self.length_recursive(node.next)\n",
    "    \n",
    "    def detect_loops(self):\n",
    "        if self.is_empty():\n",
    "            return False\n",
    "        slow_pointer = self.head\n",
    "        fast_pointer = self.head\n",
    "        while fast_pointer and fast_pointer.next:\n",
    "            slow_pointer = slow_pointer.next\n",
    "            fast_pointer = fast_pointer.next.next\n",
    "            if slow_pointer == fast_pointer:\n",
    "                return True\n",
    "        return False\n",
    "\n",
    "def union(list1, list2):\n",
    "    if list1.is_empty():\n",
    "        return list2\n",
    "    if list2.is_empty():\n",
    "        return list1\n",
    "    curr_node = list1.head\n",
    "    while curr_node.next:\n",
    "        curr_node = curr_node.next\n",
    "    curr_node.next = list2.head\n",
    "    list1.remove_duplicates()\n",
    "    return list1\n",
    "\n",
    "def intersection(list1, list2):\n",
    "    if list1.is_empty() or list2.is_empty():\n",
    "        return False\n",
    "    seen_values = dict()\n",
    "    intersecting_list = LinkedList()\n",
    "    curr_node = list1.head\n",
    "    while curr_node:\n",
    "        seen_values[curr_node.data] = 1\n",
    "        curr_node = curr_node.next\n",
    "    curr_node = list2.head\n",
    "    while curr_node:\n",
    "        if curr_node.data in seen_values:\n",
    "            intersecting_list.insert_at_head(curr_node.data)\n",
    "        curr_node = curr_node.next\n",
    "    return intersecting_list\n",
    "\n",
    "def checkIfIsPalindrome(self):\n",
    "    if self.is_empty():\n",
    "        return False\n",
    "    curr_node = self.head\n",
    "    stack = []\n",
    "    while curr_node:\n",
    "        stack.append(curr_node.data)\n",
    "        curr_node = curr_node.next\n",
    "    curr_node = self.head\n",
    "    while curr_node:\n",
    "        data = stack.pop()\n",
    "        if curr_node.data != data:\n",
    "            return False\n",
    "        curr_node = curr_node.next\n",
    "    return True\n",
    "\n",
    "    "
   ]
  },
  {
   "attachments": {},
   "cell_type": "markdown",
   "metadata": {},
   "source": [
    "### **Tests**"
   ]
  },
  {
   "cell_type": "code",
   "execution_count": 14,
   "metadata": {},
   "outputs": [
    {
     "name": "stdout",
     "output_type": "stream",
     "text": [
      "List is empty\n",
      "Inserting elements at head\n",
      "\n",
      "9 -> 8 -> 7 -> 6 -> 5 -> 4 -> 3 -> 2 -> 1 -> 0 -> None\n",
      "\n",
      "Inserting element at tail\n",
      "\n",
      "9 -> 8 -> 7 -> 6 -> 5 -> 4 -> 3 -> 2 -> 1 -> 0 -> 10 -> None\n",
      "\n",
      "Searching for elements\n",
      "\n",
      "True\n",
      "False\n",
      "True\n",
      "False\n",
      "\n",
      "Deleting from head\n",
      "\n",
      "8 -> 7 -> 6 -> 5 -> 4 -> 3 -> 2 -> 1 -> 0 -> 10 -> None\n",
      "\n",
      "Deleting 10 and 5\n",
      "\n",
      "8 -> 7 -> 6 -> 4 -> 3 -> 2 -> 1 -> 0 -> None\n",
      "\n",
      "Deleting from tail\n",
      "\n",
      "8 -> 7 -> 6 -> 4 -> 3 -> 2 -> 1 -> None\n"
     ]
    }
   ],
   "source": [
    "list = LinkedList()\n",
    "list.print_list()\n",
    "print(\"Inserting elements at head\\n\")\n",
    "for i in range(10):\n",
    "    list.insert_at_head(i)\n",
    "list.print_list()\n",
    "\n",
    "list.insert_at_tail(10)\n",
    "\n",
    "print(\"\\nInserting element at tail\\n\")\n",
    "list.print_list()\n",
    "\n",
    "print(\"\\nSearching for elements\\n\")\n",
    "print(list.search(10))\n",
    "print(list.search(20))\n",
    "print(list.recursive_search(10))\n",
    "print(list.recursive_search(20))\n",
    "\n",
    "print(\"\\nDeleting from head\\n\")\n",
    "list.delete_at_head()\n",
    "list.print_list()\n",
    "\n",
    "print(\"\\nDeleting 10 and 5\\n\")\n",
    "list.delete(10)\n",
    "list.delete(5)\n",
    "list.print_list()\n",
    "\n",
    "print(\"\\nDeleting from tail\\n\")\n",
    "list.delete_at_tail()\n",
    "list.print_list()\n",
    "\n",
    "\n",
    "\n",
    "\n",
    "\n"
   ]
  },
  {
   "cell_type": "code",
   "execution_count": 15,
   "metadata": {},
   "outputs": [
    {
     "name": "stdout",
     "output_type": "stream",
     "text": [
      "\n",
      "Reversing list\n",
      "\n",
      "1 -> 2 -> 3 -> 4 -> 6 -> 7 -> 8 -> None\n",
      "\n",
      "Reversing list recursively\n",
      "\n",
      "8 -> 7 -> 6 -> 4 -> 3 -> 2 -> 1 -> None\n",
      "\n",
      "Removing duplicates\n",
      "\n",
      "5 -> 5 -> 5 -> 5 -> 5 -> 8 -> 7 -> 6 -> 4 -> 3 -> 2 -> 1 -> None\n",
      "5 -> 8 -> 7 -> 6 -> 4 -> 3 -> 2 -> 1 -> None\n",
      "\n",
      "Length of list\n",
      "\n",
      "8\n",
      "8\n",
      "\n",
      "Detecting loops\n",
      "\n",
      "False\n"
     ]
    }
   ],
   "source": [
    "print(\"\\nReversing list\\n\")\n",
    "list.reverse_iterative()\n",
    "list.print_list()\n",
    "\n",
    "print(\"\\nReversing list recursively\\n\")\n",
    "list.reverse_recursive()\n",
    "list.print_list()\n",
    "\n",
    "print(\"\\nRemoving duplicates\\n\")\n",
    "list.insert_at_head(5)\n",
    "list.insert_at_head(5)\n",
    "list.insert_at_head(5)\n",
    "list.insert_at_head(5)\n",
    "list.insert_at_head(5)\n",
    "list.print_list()\n",
    "list.remove_duplicates()\n",
    "list.print_list()\n",
    "\n",
    "print(\"\\nLength of list\\n\")\n",
    "print(list.length_iterative())\n",
    "print(list.length_recursive(list.get_head()))\n",
    "\n",
    "print(\"\\nDetecting loops\\n\")\n",
    "print(list.detect_loops())\n",
    "\n",
    "\n"
   ]
  },
  {
   "cell_type": "code",
   "execution_count": 16,
   "metadata": {},
   "outputs": [
    {
     "name": "stdout",
     "output_type": "stream",
     "text": [
      "9 -> 8 -> 7 -> 6 -> 5 -> 4 -> 3 -> 2 -> 1 -> 0 -> None\n",
      "5 -> 8 -> 7 -> 6 -> 4 -> 3 -> 2 -> 1 -> None\n",
      "\n",
      "Union of two lists\n",
      "\n",
      "5 -> 8 -> 7 -> 6 -> 4 -> 3 -> 2 -> 1 -> 9 -> 0 -> None\n",
      "\n",
      "Intersection of two lists\n",
      "\n",
      "0 -> 9 -> None\n"
     ]
    }
   ],
   "source": [
    "list2 = LinkedList()\n",
    "for i in range(10):\n",
    "    list2.insert_at_head(i)\n",
    "list2.print_list()\n",
    "list.print_list()\n",
    "\n",
    "print(\"\\nUnion of two lists\\n\")\n",
    "union(list, list2).print_list()\n",
    "\n",
    "print(\"\\nIntersection of two lists\\n\")\n",
    "intersection(list, list2).print_list()"
   ]
  },
  {
   "attachments": {},
   "cell_type": "markdown",
   "metadata": {},
   "source": [
    "## **Doubly Linked Lists (DLL)**"
   ]
  },
  {
   "attachments": {},
   "cell_type": "markdown",
   "metadata": {},
   "source": [
    "### **Implementation**"
   ]
  },
  {
   "cell_type": "code",
   "execution_count": 17,
   "metadata": {},
   "outputs": [],
   "source": [
    "class Node():\n",
    "    def __init__(self, value):\n",
    "        self.data = value\n",
    "        self.next = None\n",
    "        self.prev = None\n",
    "    \n",
    "class DoublyLinkedList():\n",
    "    def __init__(self):\n",
    "        self.head = None\n",
    "        self.tail = None\n",
    "    \n",
    "    def get_head(self):\n",
    "        return self.head\n",
    "    \n",
    "    def get_tail(self):\n",
    "        return self.tail\n",
    "    \n",
    "    def is_empty(self):\n",
    "        if self.head is None:\n",
    "            return True\n",
    "        else:\n",
    "            return False\n",
    "    \n",
    "    def print_list(self):\n",
    "        if self.is_empty():\n",
    "            print(\"List is empty\")\n",
    "            return False\n",
    "        curr_node = self.head\n",
    "        while curr_node.next:\n",
    "            print(curr_node.data, end=\" -> \")\n",
    "            curr_node = curr_node.next\n",
    "        print(curr_node.data, \"<-\")\n",
    "        return\n",
    "        \n",
    "    def insert_at_head(self, value):\n",
    "        new_node = Node(value)\n",
    "        if self.is_empty():\n",
    "            self.head = new_node\n",
    "            self.tail = new_node\n",
    "            return\n",
    "        new_node.next = self.head\n",
    "        self.head.prev = new_node\n",
    "        self.head = new_node\n",
    "        return\n",
    "\n",
    "    def insert_at_tail(self, value):\n",
    "        new_node = Node(value)\n",
    "        if self.is_empty():\n",
    "            self.head = new_node\n",
    "            self.tail = new_node\n",
    "            return\n",
    "        new_node.prev = self.tail\n",
    "        self.tail.next = new_node\n",
    "        self.tail = new_node\n",
    "        return\n",
    "    \n",
    "    def search(self, value):\n",
    "        if self.is_empty():\n",
    "            print(\"List is empty\")\n",
    "            return False\n",
    "        curr_node = self.head\n",
    "        while curr_node:\n",
    "            if curr_node.data == value:\n",
    "                return True\n",
    "            curr_node = curr_node.next\n",
    "        return False\n",
    "    \n",
    "    def delete_at_head(self):\n",
    "        if self.is_empty():\n",
    "            return False\n",
    "        temp_node = self.head\n",
    "        self.head = self.head.next\n",
    "        self.head.prev = None\n",
    "        temp_node.next = None\n",
    "        return\n",
    "    \n",
    "    def delete_at_tail(self):\n",
    "        if self.is_empty():\n",
    "            return False\n",
    "        temp_node = self.tail\n",
    "        self.tail = self.tail.prev\n",
    "        self.tail.next = None\n",
    "        temp_node.prev = None\n",
    "        return\n",
    "    \n",
    "    def delete(self, value):\n",
    "        if self.is_empty():\n",
    "            return False\n",
    "        curr_node = self.head\n",
    "        while curr_node:\n",
    "            if curr_node.data == value:\n",
    "                if curr_node == self.head:\n",
    "                    self.delete_at_head()\n",
    "                    return True\n",
    "                if curr_node == self.tail:\n",
    "                    self.delete_at_tail()\n",
    "                    return True\n",
    "                else:\n",
    "                    curr_node.prev.next = curr_node.next\n",
    "                    curr_node.next.prev = curr_node.prev\n",
    "                    curr_node.next = None\n",
    "                    curr_node.prev = None\n",
    "                    return True\n",
    "            curr_node = curr_node.next\n",
    "        return False\n",
    "    \n",
    "    def reverse(self):\n",
    "        if self.is_empty():\n",
    "            return False\n",
    "        curr_node = self.head\n",
    "        prev_node = None\n",
    "        while curr_node:\n",
    "            prev_node = curr_node.prev\n",
    "            curr_node.prev = curr_node.next\n",
    "            curr_node.next = prev_node\n",
    "            curr_node = curr_node.prev\n",
    "        if prev_node:\n",
    "            self.head = prev_node.prev\n",
    "        return True\n",
    "    \n",
    "    def remove_duplicates(self):\n",
    "        if self.is_empty():\n",
    "            return False\n",
    "        curr_node = self.head\n",
    "        seen_values = dict()\n",
    "        while curr_node:\n",
    "            if curr_node.data in seen_values:\n",
    "                curr_node.prev.next = curr_node.next\n",
    "                curr_node.next.prev = curr_node.prev\n",
    "            else:\n",
    "                seen_values[curr_node.data] = 1\n",
    "            curr_node = curr_node.next\n",
    "        return True\n",
    "    \n",
    "    def checkIfIsPalindrome(self):\n",
    "        if self.is_empty():\n",
    "            return False\n",
    "        start = self.head\n",
    "        end = self.tail\n",
    "        while start != end:\n",
    "            if start.data != end.data:\n",
    "                return False\n",
    "            start = start.next\n",
    "            end = end.prev\n",
    "        return True\n",
    "    \n",
    "   \n",
    "\n",
    "\n",
    "    \n",
    "    \n",
    "    \n",
    "\n"
   ]
  },
  {
   "cell_type": "code",
   "execution_count": 18,
   "metadata": {},
   "outputs": [
    {
     "name": "stdout",
     "output_type": "stream",
     "text": [
      "List is empty\n",
      "\n",
      "Inserting elements at head\n",
      "\n",
      "9 -> 8 -> 7 -> 6 -> 5 -> 4 -> 3 -> 2 -> 1 -> 0 <-\n",
      "\n",
      "Inserting element at tail\n",
      "\n",
      "9 -> 8 -> 7 -> 6 -> 5 -> 4 -> 3 -> 2 -> 1 -> 0 -> 10 <-\n",
      "\n",
      "Searching for elements\n",
      "\n",
      "True\n",
      "False\n",
      "\n",
      "Deleting from head\n",
      "\n",
      "8 -> 7 -> 6 -> 5 -> 4 -> 3 -> 2 -> 1 -> 0 -> 10 <-\n",
      "\n",
      "Deleting 10 and 5\n",
      "\n",
      "8 -> 7 -> 6 -> 4 -> 3 -> 2 -> 1 -> 0 <-\n"
     ]
    }
   ],
   "source": [
    "# Tests\n",
    "list = DoublyLinkedList()\n",
    "list.print_list()\n",
    "print(\"\\nInserting elements at head\\n\")\n",
    "for i in range(10):\n",
    "    list.insert_at_head(i)\n",
    "list.print_list()\n",
    "\n",
    "print(\"\\nInserting element at tail\\n\")\n",
    "list.insert_at_tail(10)\n",
    "list.print_list()\n",
    "\n",
    "print(\"\\nSearching for elements\\n\")\n",
    "print(list.search(10))\n",
    "print(list.search(20))\n",
    "\n",
    "print(\"\\nDeleting from head\\n\")\n",
    "list.delete_at_head()\n",
    "list.print_list()\n",
    "\n",
    "print(\"\\nDeleting 10 and 5\\n\")\n",
    "list.delete(10)\n",
    "list.delete(5)\n",
    "list.print_list()\n",
    "\n",
    "\n",
    "\n"
   ]
  },
  {
   "attachments": {},
   "cell_type": "markdown",
   "metadata": {},
   "source": [
    "## "
   ]
  },
  {
   "cell_type": "code",
   "execution_count": 19,
   "metadata": {},
   "outputs": [
    {
     "ename": "SyntaxError",
     "evalue": "incomplete input (3822803317.py, line 9)",
     "output_type": "error",
     "traceback": [
      "\u001b[1;36m  Cell \u001b[1;32mIn[19], line 9\u001b[1;36m\u001b[0m\n\u001b[1;33m    \u001b[0m\n\u001b[1;37m    ^\u001b[0m\n\u001b[1;31mSyntaxError\u001b[0m\u001b[1;31m:\u001b[0m incomplete input\n"
     ]
    }
   ],
   "source": [
    "\n",
    "\n",
    "\n"
   ]
  }
 ],
 "metadata": {
  "kernelspec": {
   "display_name": "Python 3",
   "language": "python",
   "name": "python3"
  },
  "language_info": {
   "codemirror_mode": {
    "name": "ipython",
    "version": 3
   },
   "file_extension": ".py",
   "mimetype": "text/x-python",
   "name": "python",
   "nbconvert_exporter": "python",
   "pygments_lexer": "ipython3",
   "version": "3.10.11"
  },
  "orig_nbformat": 4
 },
 "nbformat": 4,
 "nbformat_minor": 2
}
